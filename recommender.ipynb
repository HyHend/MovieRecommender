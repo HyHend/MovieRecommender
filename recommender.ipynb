{
 "cells": [
  {
   "cell_type": "code",
   "execution_count": 1,
   "metadata": {},
   "outputs": [],
   "source": [
    "# Movie recommender\n",
    "# Data: https://www.kaggle.com/rounakbanik/the-movies-dataset/data"
   ]
  },
  {
   "cell_type": "code",
   "execution_count": 920,
   "metadata": {},
   "outputs": [],
   "source": [
    "import pandas as pd\n",
    "import numpy as np\n",
    "import datetime\n",
    "import matplotlib.pyplot as plt\n",
    "import math\n",
    "from scipy.sparse import csr_matrix\n",
    "from scipy.sparse.linalg import svds\n",
    "from sklearn import cross_validation as cv\n",
    "from sklearn.metrics.pairwise import pairwise_distances\n",
    "from sklearn.metrics import mean_squared_error"
   ]
  },
  {
   "cell_type": "code",
   "execution_count": 921,
   "metadata": {},
   "outputs": [],
   "source": [
    "# Load the data\n",
    "dataLoc = \"~/Downloads/ratings.csv\"\n",
    "dataPD = pd.read_csv(dataLoc)"
   ]
  },
  {
   "cell_type": "code",
   "execution_count": 922,
   "metadata": {},
   "outputs": [
    {
     "data": {
      "text/html": [
       "<div>\n",
       "<style scoped>\n",
       "    .dataframe tbody tr th:only-of-type {\n",
       "        vertical-align: middle;\n",
       "    }\n",
       "\n",
       "    .dataframe tbody tr th {\n",
       "        vertical-align: top;\n",
       "    }\n",
       "\n",
       "    .dataframe thead th {\n",
       "        text-align: right;\n",
       "    }\n",
       "</style>\n",
       "<table border=\"1\" class=\"dataframe\">\n",
       "  <thead>\n",
       "    <tr style=\"text-align: right;\">\n",
       "      <th></th>\n",
       "      <th>userId</th>\n",
       "      <th>movieId</th>\n",
       "      <th>rating</th>\n",
       "      <th>timestamp</th>\n",
       "    </tr>\n",
       "  </thead>\n",
       "  <tbody>\n",
       "    <tr>\n",
       "      <th>0</th>\n",
       "      <td>1</td>\n",
       "      <td>110</td>\n",
       "      <td>1.0</td>\n",
       "      <td>1425941529</td>\n",
       "    </tr>\n",
       "    <tr>\n",
       "      <th>1</th>\n",
       "      <td>1</td>\n",
       "      <td>147</td>\n",
       "      <td>4.5</td>\n",
       "      <td>1425942435</td>\n",
       "    </tr>\n",
       "    <tr>\n",
       "      <th>2</th>\n",
       "      <td>1</td>\n",
       "      <td>858</td>\n",
       "      <td>5.0</td>\n",
       "      <td>1425941523</td>\n",
       "    </tr>\n",
       "    <tr>\n",
       "      <th>3</th>\n",
       "      <td>1</td>\n",
       "      <td>1221</td>\n",
       "      <td>5.0</td>\n",
       "      <td>1425941546</td>\n",
       "    </tr>\n",
       "    <tr>\n",
       "      <th>4</th>\n",
       "      <td>1</td>\n",
       "      <td>1246</td>\n",
       "      <td>5.0</td>\n",
       "      <td>1425941556</td>\n",
       "    </tr>\n",
       "    <tr>\n",
       "      <th>5</th>\n",
       "      <td>1</td>\n",
       "      <td>1968</td>\n",
       "      <td>4.0</td>\n",
       "      <td>1425942148</td>\n",
       "    </tr>\n",
       "    <tr>\n",
       "      <th>6</th>\n",
       "      <td>1</td>\n",
       "      <td>2762</td>\n",
       "      <td>4.5</td>\n",
       "      <td>1425941300</td>\n",
       "    </tr>\n",
       "    <tr>\n",
       "      <th>7</th>\n",
       "      <td>1</td>\n",
       "      <td>2918</td>\n",
       "      <td>5.0</td>\n",
       "      <td>1425941593</td>\n",
       "    </tr>\n",
       "    <tr>\n",
       "      <th>8</th>\n",
       "      <td>1</td>\n",
       "      <td>2959</td>\n",
       "      <td>4.0</td>\n",
       "      <td>1425941601</td>\n",
       "    </tr>\n",
       "    <tr>\n",
       "      <th>9</th>\n",
       "      <td>1</td>\n",
       "      <td>4226</td>\n",
       "      <td>4.0</td>\n",
       "      <td>1425942228</td>\n",
       "    </tr>\n",
       "  </tbody>\n",
       "</table>\n",
       "</div>"
      ],
      "text/plain": [
       "   userId  movieId  rating   timestamp\n",
       "0       1      110     1.0  1425941529\n",
       "1       1      147     4.5  1425942435\n",
       "2       1      858     5.0  1425941523\n",
       "3       1     1221     5.0  1425941546\n",
       "4       1     1246     5.0  1425941556\n",
       "5       1     1968     4.0  1425942148\n",
       "6       1     2762     4.5  1425941300\n",
       "7       1     2918     5.0  1425941593\n",
       "8       1     2959     4.0  1425941601\n",
       "9       1     4226     4.0  1425942228"
      ]
     },
     "execution_count": 922,
     "metadata": {},
     "output_type": "execute_result"
    }
   ],
   "source": [
    "# What does the data look like\n",
    "dataPD[0:10]"
   ]
  },
  {
   "cell_type": "code",
   "execution_count": 923,
   "metadata": {},
   "outputs": [
    {
     "name": "stdout",
     "output_type": "stream",
     "text": [
      "Rows: 104097156\n",
      "Distinct movies: 45115\n",
      "Distinct Users: 270896\n",
      "First timestamp: 1995-01-09 12:46:44\n",
      "Last timestamp: 2017-08-04 08:57:50\n"
     ]
    },
    {
     "data": {
      "image/png": "[encoded data removed]",
      "text/plain": [
       "<matplotlib.figure.Figure at 0x223c7d6d8>"
      ]
     },
     "metadata": {},
     "output_type": "display_data"
    },
    {
     "data": {
      "image/png": "[encoded data removed]",
      "text/plain": [
       "<matplotlib.figure.Figure at 0x10f0d4b38>"
      ]
     },
     "metadata": {},
     "output_type": "display_data"
    }
   ],
   "source": [
    "def showDataStats(inPD):\n",
    "    # Get some numbers\n",
    "    print(\"Rows: {0}\".format(inPD.size))\n",
    "    print(\"Distinct movies: {0}\".format(inPD['movieId'].unique().size))\n",
    "    print(\"Distinct Users: {0}\".format(inPD['userId'].unique().size))\n",
    "    print(\"First timestamp: {0}\".format(datetime.datetime.fromtimestamp(inPD['timestamp'].min()).strftime('%Y-%m-%d %H:%M:%S')))\n",
    "    print(\"Last timestamp: {0}\".format(datetime.datetime.fromtimestamp(inPD['timestamp'].max()).strftime('%Y-%m-%d %H:%M:%S')))\n",
    "    \n",
    "    # Plot some histograms to get a feeling for the data\n",
    "    numRatingsPerUserPD = inPD.groupby('userId')['movieId'].count()\n",
    "    n, bins, patches = plt.hist(numRatingsPerUserPD.as_matrix(), 100, log=True, facecolor='blue', alpha=0.75)\n",
    "    plt.xlabel('#Ratings')\n",
    "    plt.ylabel('#Users')\n",
    "    plt.title('Histogram of #ratings per user')\n",
    "    plt.grid(True)\n",
    "    plt.show()\n",
    "\n",
    "    numRatingsPerMoviePD = inPD.groupby('movieId')['userId'].count()\n",
    "    n, bins, patches = plt.hist(numRatingsPerMoviePD.as_matrix(), 100, log=True, facecolor='blue', alpha=0.75)\n",
    "    plt.xlabel('#Ratings')\n",
    "    plt.ylabel('#Movies')\n",
    "    plt.title('Histogram of #ratings per movie')\n",
    "    plt.grid(True)\n",
    "    plt.show()\n",
    "showDataStats(dataPD)"
   ]
  },
  {
   "cell_type": "code",
   "execution_count": 924,
   "metadata": {},
   "outputs": [],
   "source": [
    "# For ease of use w/o overwriting dataPD\n",
    "filteredDataPD = dataPD"
   ]
  },
  {
   "cell_type": "code",
   "execution_count": 925,
   "metadata": {},
   "outputs": [],
   "source": [
    "# Filter out the users with little ratings (10th percentile)\n",
    "# And filter out the users with many ratings (90th percentile)\n",
    "numRatingsPerUserPD = filteredDataPD.groupby('userId')['movieId'].count()\n",
    "filterOutUsersPD = numRatingsPerUserPD[(numRatingsPerUserPD <= np.percentile(numRatingsPerUserPD, 10))\n",
    "                              | (numRatingsPerUserPD >= np.percentile(numRatingsPerUserPD, 90))]\n",
    "filteredDataPD = filteredDataPD[~filteredDataPD['userId'].isin(filterOutUsersPD.index)]\n",
    "\n",
    "# Show stats\n",
    "# showDataStats(filteredDataPD)"
   ]
  },
  {
   "cell_type": "code",
   "execution_count": 926,
   "metadata": {},
   "outputs": [],
   "source": [
    "# Filter out the bottom 95% of the movies\n",
    "numRatingsPerMoviePD = filteredDataPD.groupby('movieId')['userId'].count()\n",
    "filterOutMoviesPD = numRatingsPerMoviePD[(numRatingsPerMoviePD <= np.percentile(numRatingsPerMoviePD, 95))]\n",
    "filteredDataPD = filteredDataPD[~filteredDataPD['movieId'].isin(filterOutMoviesPD.index)]\n",
    "\n",
    "# Show stats\n",
    "# showDataStats(filteredDataPD)"
   ]
  },
  {
   "cell_type": "code",
   "execution_count": 927,
   "metadata": {},
   "outputs": [
    {
     "name": "stdout",
     "output_type": "stream",
     "text": [
      "Rows: 3677760\n",
      "Distinct movies: 1265\n",
      "Distinct Users: 21611\n",
      "First timestamp: 1995-01-09 12:46:49\n",
      "Last timestamp: 2017-08-04 05:14:42\n"
     ]
    },
    {
     "data": {
      "image/png": "[encoded data removed]",
      "text/plain": [
       "<matplotlib.figure.Figure at 0x227d9d0b8>"
      ]
     },
     "metadata": {},
     "output_type": "display_data"
    },
    {
     "data": {
      "image/png": "[encoded data removed]",
      "text/plain": [
       "<matplotlib.figure.Figure at 0x161f3f390>"
      ]
     },
     "metadata": {},
     "output_type": "display_data"
    }
   ],
   "source": [
    "# Randomly filter out 90% of the users\n",
    "distinctUsers = filteredDataPD['userId'].unique()\n",
    "filterUsersPD = pd.DataFrame(distinctUsers, columns=['userId']).sample(frac=0.1)\n",
    "filteredDataPD = filteredDataPD[filteredDataPD['userId'].isin(filterUsersPD['userId'])]\n",
    "\n",
    "# Show stats\n",
    "showDataStats(filteredDataPD)"
   ]
  },
  {
   "cell_type": "code",
   "execution_count": 928,
   "metadata": {
    "scrolled": true
   },
   "outputs": [],
   "source": [
    "# Convert pd dataframe to CF matrix (rating for each user, movie combination)\n",
    "dataMat = filteredDataPD.pivot(index = 'userId', columns = 'movieId', values = 'rating')"
   ]
  },
  {
   "cell_type": "code",
   "execution_count": 929,
   "metadata": {},
   "outputs": [],
   "source": [
    "# # Calculate rmse from prediction and actual values\n",
    "# # Note: Only compares those elements which are not 0 in the ground truth\n",
    "# def root_mean_squared_error(xPredMat, actual):\n",
    "#     xPredMat = xPredMat[actual.nonzero()].flatten() \n",
    "#     actual = actual[actual.nonzero()].flatten()\n",
    "#     return math.sqrt(mean_squared_error(xPredMat, actual))"
   ]
  },
  {
   "cell_type": "code",
   "execution_count": 930,
   "metadata": {},
   "outputs": [],
   "source": [
    "trainPD, testPD = cv.train_test_split(dataMat, test_size=0.25)\n",
    "trainUserRatingsMean = np.nanmean(np.nan_to_num(trainPD.as_matrix(),0), axis = 1)\n",
    "trainMatDemeaned = trainPD.as_matrix() - trainUserRatingsMean.reshape(-1, 1)\n",
    "testUserRatingsMean = np.nanmean(np.nan_to_num(testPD.as_matrix(),0), axis = 1)\n",
    "testMatDemeaned = testPD.as_matrix() - testUserRatingsMean.reshape(-1, 1)"
   ]
  },
  {
   "cell_type": "code",
   "execution_count": 931,
   "metadata": {},
   "outputs": [],
   "source": [
    "u, sigma, vt = svds(trainMatDemeaned, k=20)\n",
    "sigma = np.diag(sigma)\n",
    "predictedRatings = np.dot(np.dot(u, sigma), vt) + trainUserRatingsMean.reshape(-1, 1)\n",
    "predictionsPD = pd.DataFrame(predictedRatings, columns = trainPD.columns)"
   ]
  },
  {
   "cell_type": "code",
   "execution_count": null,
   "metadata": {},
   "outputs": [],
   "source": [
    "# Test by leaving out known values. So it's actually doable in the filtering(?)"
   ]
  },
  {
   "cell_type": "code",
   "execution_count": null,
   "metadata": {},
   "outputs": [],
   "source": []
  },
  {
   "cell_type": "code",
   "execution_count": null,
   "metadata": {},
   "outputs": [],
   "source": []
  },
  {
   "cell_type": "code",
   "execution_count": null,
   "metadata": {},
   "outputs": [],
   "source": []
  },
  {
   "cell_type": "code",
   "execution_count": 431,
   "metadata": {},
   "outputs": [],
   "source": []
  },
  {
   "cell_type": "code",
   "execution_count": 618,
   "metadata": {},
   "outputs": [
    {
     "name": "stderr",
     "output_type": "stream",
     "text": [
      "/usr/local/lib/python3.6/site-packages/IPython/core/interactiveshell.py:2728: DtypeWarning: Columns (10) have mixed types. Specify dtype option on import or set low_memory=False.\n",
      "  interactivity=interactivity, compiler=compiler, result=result)\n"
     ]
    }
   ],
   "source": [
    "# Get ID with movies\n",
    "# Read necessary tables\n",
    "moviesLoc = \"~/Downloads/movies_metadata.csv\"\n",
    "moviesPD = pd.read_csv(moviesLoc)\n",
    "moviesIdsLoc = \"~/Downloads/links.csv\"\n",
    "moviesIdsLocPD = pd.read_csv(moviesIdsLoc)\n",
    "\n",
    "# Clean required data\n",
    "moviesPD['imdb_id'] = moviesPD['imdb_id'].apply(lambda x: str(x).replace('tt','0').strip('0')).replace('nan',0).replace('',0).fillna(0).astype(int)\n",
    "moviesIdsLocPD['tmdbId'] = moviesIdsLocPD['tmdbId'].fillna(0).astype(int)\n",
    "moviesIdsLocPD['imdbId'] = moviesIdsLocPD['imdbId'].fillna(0).astype(int)\n",
    "\n",
    "# Join tables, get necessary columns\n",
    "moviesIdsJoinedPD = moviesIdsLocPD.merge(moviesPD, left_on='imdbId', right_on='imdb_id', how='inner')\n",
    "moviesIdPD = pd.concat([moviesIdsJoinedPD['movieId'],moviesIdsJoinedPD['tmdbId'],moviesIdsJoinedPD['imdbId'],moviesIdsJoinedPD['original_title']], axis=1).rename(columns={\"movieId\": \"id\"})"
   ]
  }
 ],
 "metadata": {
  "kernelspec": {
   "display_name": "Python 3",
   "language": "python",
   "name": "python3"
  },
  "language_info": {
   "codemirror_mode": {
    "name": "ipython",
    "version": 3
   },
   "file_extension": ".py",
   "mimetype": "text/x-python",
   "name": "python",
   "nbconvert_exporter": "python",
   "pygments_lexer": "ipython3",
   "version": "3.6.1"
  }
 },
 "nbformat": 4,
 "nbformat_minor": 2
}
