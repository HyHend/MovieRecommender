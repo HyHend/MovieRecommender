{
 "cells": [
  {
   "cell_type": "code",
   "execution_count": 1,
   "metadata": {},
   "outputs": [],
   "source": [
    "# Movie recommender\n",
    "# Data: https://www.kaggle.com/rounakbanik/the-movies-dataset/data\n",
    "# - The data is similar to the movielend 20m dataset. Except it is more extensive and goes into 2017, not 2015\n",
    "\n",
    "# Sources:\n",
    "# http://antoinevastel.github.io/machine%20learning/python/2016/02/14/svd-recommender-system.html\n",
    "# https://beckernick.github.io/matrix-factorization-recommender/\n",
    "# https://cambridgespark.com/content/tutorials/implementing-your-own-recommender-systems-in-Python/index.html\n",
    "# https://medium.com/@m_n_malaeb/singular-value-decomposition-svd-in-recommender-systems-for-non-math-statistics-programming-4a622de653e9"
   ]
  },
  {
   "cell_type": "code",
   "execution_count": 2,
   "metadata": {},
   "outputs": [],
   "source": [
    "import pandas as pd\n",
    "import numpy as np\n",
    "import datetime\n",
    "import matplotlib.pyplot as plt\n",
    "import math\n",
    "from scipy.sparse import csr_matrix\n",
    "from scipy.sparse.linalg import svds\n",
    "from sklearn.metrics.pairwise import pairwise_distances\n",
    "from sklearn.metrics import mean_squared_error"
   ]
  },
  {
   "cell_type": "code",
   "execution_count": 3,
   "metadata": {},
   "outputs": [],
   "source": [
    "# Load the data\n",
    "dataLoc = \"~/Downloads/ratings.csv\"\n",
    "dataPD = pd.read_csv(dataLoc)\n",
    "moviesLoc = \"~/Downloads/movies_metadata.csv\"\n",
    "moviesPD = pd.read_csv(moviesLoc, low_memory=False)\n",
    "moviesIdsLoc = \"~/Downloads/links.csv\"\n",
    "moviesIdsLocPD = pd.read_csv(moviesIdsLoc)"
   ]
  },
  {
   "cell_type": "code",
   "execution_count": 4,
   "metadata": {},
   "outputs": [
    {
     "data": {
      "text/html": [
       "<div>\n",
       "<style scoped>\n",
       "    .dataframe tbody tr th:only-of-type {\n",
       "        vertical-align: middle;\n",
       "    }\n",
       "\n",
       "    .dataframe tbody tr th {\n",
       "        vertical-align: top;\n",
       "    }\n",
       "\n",
       "    .dataframe thead th {\n",
       "        text-align: right;\n",
       "    }\n",
       "</style>\n",
       "<table border=\"1\" class=\"dataframe\">\n",
       "  <thead>\n",
       "    <tr style=\"text-align: right;\">\n",
       "      <th></th>\n",
       "      <th>userId</th>\n",
       "      <th>movieId</th>\n",
       "      <th>rating</th>\n",
       "      <th>timestamp</th>\n",
       "    </tr>\n",
       "  </thead>\n",
       "  <tbody>\n",
       "    <tr>\n",
       "      <th>0</th>\n",
       "      <td>1</td>\n",
       "      <td>110</td>\n",
       "      <td>1.0</td>\n",
       "      <td>1425941529</td>\n",
       "    </tr>\n",
       "    <tr>\n",
       "      <th>1</th>\n",
       "      <td>1</td>\n",
       "      <td>147</td>\n",
       "      <td>4.5</td>\n",
       "      <td>1425942435</td>\n",
       "    </tr>\n",
       "    <tr>\n",
       "      <th>2</th>\n",
       "      <td>1</td>\n",
       "      <td>858</td>\n",
       "      <td>5.0</td>\n",
       "      <td>1425941523</td>\n",
       "    </tr>\n",
       "    <tr>\n",
       "      <th>3</th>\n",
       "      <td>1</td>\n",
       "      <td>1221</td>\n",
       "      <td>5.0</td>\n",
       "      <td>1425941546</td>\n",
       "    </tr>\n",
       "    <tr>\n",
       "      <th>4</th>\n",
       "      <td>1</td>\n",
       "      <td>1246</td>\n",
       "      <td>5.0</td>\n",
       "      <td>1425941556</td>\n",
       "    </tr>\n",
       "    <tr>\n",
       "      <th>5</th>\n",
       "      <td>1</td>\n",
       "      <td>1968</td>\n",
       "      <td>4.0</td>\n",
       "      <td>1425942148</td>\n",
       "    </tr>\n",
       "    <tr>\n",
       "      <th>6</th>\n",
       "      <td>1</td>\n",
       "      <td>2762</td>\n",
       "      <td>4.5</td>\n",
       "      <td>1425941300</td>\n",
       "    </tr>\n",
       "    <tr>\n",
       "      <th>7</th>\n",
       "      <td>1</td>\n",
       "      <td>2918</td>\n",
       "      <td>5.0</td>\n",
       "      <td>1425941593</td>\n",
       "    </tr>\n",
       "    <tr>\n",
       "      <th>8</th>\n",
       "      <td>1</td>\n",
       "      <td>2959</td>\n",
       "      <td>4.0</td>\n",
       "      <td>1425941601</td>\n",
       "    </tr>\n",
       "    <tr>\n",
       "      <th>9</th>\n",
       "      <td>1</td>\n",
       "      <td>4226</td>\n",
       "      <td>4.0</td>\n",
       "      <td>1425942228</td>\n",
       "    </tr>\n",
       "  </tbody>\n",
       "</table>\n",
       "</div>"
      ],
      "text/plain": [
       "   userId  movieId  rating   timestamp\n",
       "0       1      110     1.0  1425941529\n",
       "1       1      147     4.5  1425942435\n",
       "2       1      858     5.0  1425941523\n",
       "3       1     1221     5.0  1425941546\n",
       "4       1     1246     5.0  1425941556\n",
       "5       1     1968     4.0  1425942148\n",
       "6       1     2762     4.5  1425941300\n",
       "7       1     2918     5.0  1425941593\n",
       "8       1     2959     4.0  1425941601\n",
       "9       1     4226     4.0  1425942228"
      ]
     },
     "execution_count": 4,
     "metadata": {},
     "output_type": "execute_result"
    }
   ],
   "source": [
    "# What does the rating data look like?\n",
    "dataPD[0:10]"
   ]
  },
  {
   "cell_type": "code",
   "execution_count": 5,
   "metadata": {},
   "outputs": [
    {
     "name": "stdout",
     "output_type": "stream",
     "text": [
      "Rows: 104097156\n",
      "Distinct movies: 45115\n",
      "Distinct Users: 270896\n",
      "First timestamp: 1995-01-09 12:46:44\n",
      "Last timestamp: 2017-08-04 08:57:50\n"
     ]
    },
    {
     "data": {
      "image/png": "[encoded data removed]",
      "text/plain": [
       "<matplotlib.figure.Figure at 0x1039662b0>"
      ]
     },
     "metadata": {},
     "output_type": "display_data"
    },
    {
     "data": {
      "image/png": "[encoded data removed]",
      "text/plain": [
       "<matplotlib.figure.Figure at 0x10a67fe48>"
      ]
     },
     "metadata": {},
     "output_type": "display_data"
    }
   ],
   "source": [
    "def showDataStats(inPD):\n",
    "    \"\"\" Show selected statistics on given movie ratings dataframe\n",
    "    \"\"\"\n",
    "    # Get some numbers\n",
    "    print(\"Rows: {0}\".format(inPD.size))\n",
    "    print(\"Distinct movies: {0}\".format(inPD['movieId'].unique().size))\n",
    "    print(\"Distinct Users: {0}\".format(inPD['userId'].unique().size))\n",
    "    print(\"First timestamp: {0}\".format(datetime.datetime.fromtimestamp(inPD['timestamp'].min()).strftime('%Y-%m-%d %H:%M:%S')))\n",
    "    print(\"Last timestamp: {0}\".format(datetime.datetime.fromtimestamp(inPD['timestamp'].max()).strftime('%Y-%m-%d %H:%M:%S')))\n",
    "    \n",
    "    # Plot some histograms to get a feeling for the data\n",
    "    numRatingsPerUserPD = inPD.groupby('userId')['movieId'].count()\n",
    "    n, bins, patches = plt.hist(numRatingsPerUserPD.as_matrix(), 100, log=True, facecolor='blue', alpha=0.75)\n",
    "    plt.xlabel('#Ratings')\n",
    "    plt.ylabel('#Users')\n",
    "    plt.title('#ratings per user')\n",
    "    plt.grid(True)\n",
    "    plt.show()\n",
    "\n",
    "    numRatingsPerMoviePD = inPD.groupby('movieId')['userId'].count()\n",
    "    n, bins, patches = plt.hist(numRatingsPerMoviePD.as_matrix(), 100, log=True, facecolor='blue', alpha=0.75)\n",
    "    plt.xlabel('#Ratings')\n",
    "    plt.ylabel('#Movies')\n",
    "    plt.title('#ratings per movie')\n",
    "    plt.grid(True)\n",
    "    plt.show()\n",
    "showDataStats(dataPD)"
   ]
  },
  {
   "cell_type": "code",
   "execution_count": 6,
   "metadata": {},
   "outputs": [],
   "source": [
    "# For ease of use w/o overwriting dataPD\n",
    "filteredDataPD = dataPD"
   ]
  },
  {
   "cell_type": "code",
   "execution_count": 7,
   "metadata": {},
   "outputs": [],
   "source": [
    "# Filter out the bottom 95% of the movies\n",
    "numRatingsPerMoviePD = filteredDataPD.groupby('movieId')['userId'].count()\n",
    "filterOutMoviesPD = numRatingsPerMoviePD[(numRatingsPerMoviePD <= np.percentile(numRatingsPerMoviePD, 95))]\n",
    "filteredDataPD = filteredDataPD[~filteredDataPD['movieId'].isin(filterOutMoviesPD.index)]"
   ]
  },
  {
   "cell_type": "code",
   "execution_count": 8,
   "metadata": {},
   "outputs": [],
   "source": [
    "# When necessary (for computing power reasons)\n",
    "# Randomly filter out 90% of the users\n",
    "distinctUsers = filteredDataPD['userId'].unique()\n",
    "filterUsersPD = pd.DataFrame(distinctUsers, columns=['userId']).sample(frac=0.1)\n",
    "filteredDataPD = filteredDataPD[filteredDataPD['userId'].isin(filterUsersPD['userId'])]"
   ]
  },
  {
   "cell_type": "code",
   "execution_count": 9,
   "metadata": {},
   "outputs": [],
   "source": [
    "# Filter out the users with little ratings (10th percentile)\n",
    "# And filter out the users with many ratings (90th percentile)\n",
    "numRatingsPerUserPD = filteredDataPD.groupby('userId')['movieId'].count()\n",
    "filterOutUsersPD = numRatingsPerUserPD[(numRatingsPerUserPD <= np.percentile(numRatingsPerUserPD, 10))\n",
    "                              | (numRatingsPerUserPD >= np.percentile(numRatingsPerUserPD, 90))]\n",
    "filteredDataPD = filteredDataPD[~filteredDataPD['userId'].isin(filterOutUsersPD.index)]"
   ]
  },
  {
   "cell_type": "code",
   "execution_count": 10,
   "metadata": {},
   "outputs": [
    {
     "name": "stdout",
     "output_type": "stream",
     "text": [
      "Rows: 4037880\n",
      "Distinct movies: 2256\n",
      "Distinct Users: 21126\n",
      "First timestamp: 1995-01-09 12:46:49\n",
      "Last timestamp: 2017-08-04 05:14:42\n"
     ]
    },
    {
     "data": {
      "image/png": "[encoded data removed]",
      "text/plain": [
       "<matplotlib.figure.Figure at 0x10b292d68>"
      ]
     },
     "metadata": {},
     "output_type": "display_data"
    },
    {
     "data": {
      "image/png": "[encoded data removed]",
      "text/plain": [
       "<matplotlib.figure.Figure at 0x10adb3470>"
      ]
     },
     "metadata": {},
     "output_type": "display_data"
    }
   ],
   "source": [
    "# Show stats\n",
    "showDataStats(filteredDataPD)"
   ]
  },
  {
   "cell_type": "code",
   "execution_count": 11,
   "metadata": {},
   "outputs": [],
   "source": [
    "# Convert pd dataframe to CF matrix (rating for each user, movie combination)\n",
    "filteredDataMatPD = filteredDataPD.pivot(index = 'userId', columns = 'movieId', values = 'rating')\n",
    "\n",
    "# For validation purposes, remove 20% of the elements from the data\n",
    "#   - Remember these ratings as \"test_set\"\n",
    "#   - Having our predictions, we can compare the recommendations with the \"test_set\"\n",
    "#   - Note: x% of the elements does NOT implicate x% of the ratings. As it is a sparse matrix and random selection\n",
    "randMat = np.random.random((filteredDataMatPD.shape[0], filteredDataMatPD.shape[1])) > 0.1\n",
    "trainMat = np.multiply(filteredDataMatPD.as_matrix(),randMat)\n",
    "testMat = np.multiply(filteredDataMatPD.as_matrix(),~randMat)"
   ]
  },
  {
   "cell_type": "code",
   "execution_count": 12,
   "metadata": {},
   "outputs": [],
   "source": [
    "# Calculate mean per user\n",
    "trainUserRatingsMean = np.nanmean(np.nan_to_num(trainMat,0), axis = 1)\n",
    "\n",
    "# Substract mean from each element. The ratings are now mean normalized\n",
    "trainMatMeanNormalized = trainMat - trainUserRatingsMean.reshape(-1, 1)"
   ]
  },
  {
   "cell_type": "code",
   "execution_count": 13,
   "metadata": {},
   "outputs": [],
   "source": [
    "# Use svd and calculate collaborative rating matrix\n",
    "#   - https://en.wikipedia.org/wiki/Singular-value_decomposition\n",
    "u, s, vt = svds(trainMatMeanNormalized, k=20)\n",
    "sigma = np.diag(s) # svds doesn't actually return a diagonal matrix as sigma\n",
    "predictedRatings = np.dot(np.dot(u, sigma), vt) + trainUserRatingsMean.reshape(-1, 1) #(U.Sigma).VT + mean we subtracted before to get to the original range\n",
    "predictedRatingsPD = pd.DataFrame(predictedRatings, columns = filteredDataMatPD.columns)"
   ]
  },
  {
   "cell_type": "code",
   "execution_count": 14,
   "metadata": {
    "scrolled": true
   },
   "outputs": [],
   "source": [
    "# Calculate rmse from predicted and actual values\n",
    "# - Takes those elements from actual that are filled. \n",
    "#   Calculates rmse to value in predicted\n",
    "def root_mean_squared_error(predicted, actual):\n",
    "    predicted = predicted[actual.nonzero()].flatten() \n",
    "    actual = actual[actual.nonzero()].flatten()\n",
    "    return math.sqrt(mean_squared_error(predicted, actual))"
   ]
  },
  {
   "cell_type": "code",
   "execution_count": 15,
   "metadata": {},
   "outputs": [
    {
     "data": {
      "text/plain": [
       "3.0802000949295545"
      ]
     },
     "execution_count": 15,
     "metadata": {},
     "output_type": "execute_result"
    }
   ],
   "source": [
    "# Validate predictions on test holdout (RMSE)\n",
    "root_mean_squared_error(predictedRatings, np.nan_to_num(testMat,0))"
   ]
  },
  {
   "cell_type": "code",
   "execution_count": 16,
   "metadata": {},
   "outputs": [
    {
     "data": {
      "text/plain": [
       "2.1497124127059357"
      ]
     },
     "execution_count": 16,
     "metadata": {},
     "output_type": "execute_result"
    }
   ],
   "source": [
    "# Random predictions RMSE to test holdout\n",
    "randomPredictions = np.random.random((filteredDataMatPD.shape[0], filteredDataMatPD.shape[1]))*5\n",
    "root_mean_squared_error(randomPredictions, testMat)"
   ]
  },
  {
   "cell_type": "code",
   "execution_count": 17,
   "metadata": {},
   "outputs": [],
   "source": [
    "def joinListToMovies(toJoin, moviesPD, moviesIdsLocPD):\n",
    "    \"\"\" Retrieve top recommended movies for user\n",
    "    \"\"\"\n",
    "    # Get ID with movies\n",
    "    moviesPD['imdb_id'] = moviesPD['imdb_id'].apply(lambda x: str(x).replace('tt','0').strip('0')).replace('nan',0).replace('',0).fillna(0).astype(int)\n",
    "    moviesIdsLocPD['tmdbId'] = moviesIdsLocPD['tmdbId'].fillna(0).astype(int)\n",
    "    moviesIdsLocPD['imdbId'] = moviesIdsLocPD['imdbId'].fillna(0).astype(int)\n",
    "\n",
    "    # Join tables, get necessary columns\n",
    "    moviesIdsJoinedPD = moviesIdsLocPD.merge(moviesPD, left_on='imdbId', right_on='imdb_id', how='inner')\n",
    "    moviesIdPD = pd.concat([moviesIdsJoinedPD['movieId'], moviesIdsJoinedPD['tmdbId'], moviesIdsJoinedPD['imdbId'], moviesIdsJoinedPD['original_title']], axis=1)\n",
    "    \n",
    "    # Join to given list\n",
    "    toJoin = pd.DataFrame(toJoin).reset_index()\n",
    "    toJoin.columns.values[1] = 'rating'\n",
    "    joined = toJoin.merge(moviesIdPD, on='movieId')\n",
    "    joined = pd.concat([joined['movieId'],joined['original_title'],joined['rating']],axis=1)\n",
    "    \n",
    "    return joined"
   ]
  },
  {
   "cell_type": "code",
   "execution_count": 18,
   "metadata": {},
   "outputs": [
    {
     "data": {
      "text/html": [
       "<div>\n",
       "<style scoped>\n",
       "    .dataframe tbody tr th:only-of-type {\n",
       "        vertical-align: middle;\n",
       "    }\n",
       "\n",
       "    .dataframe tbody tr th {\n",
       "        vertical-align: top;\n",
       "    }\n",
       "\n",
       "    .dataframe thead th {\n",
       "        text-align: right;\n",
       "    }\n",
       "</style>\n",
       "<table border=\"1\" class=\"dataframe\">\n",
       "  <thead>\n",
       "    <tr style=\"text-align: right;\">\n",
       "      <th></th>\n",
       "      <th>movieId</th>\n",
       "      <th>original_title</th>\n",
       "      <th>rating</th>\n",
       "    </tr>\n",
       "  </thead>\n",
       "  <tbody>\n",
       "    <tr>\n",
       "      <th>0</th>\n",
       "      <td>380</td>\n",
       "      <td>True Lies</td>\n",
       "      <td>4.366908</td>\n",
       "    </tr>\n",
       "    <tr>\n",
       "      <th>1</th>\n",
       "      <td>588</td>\n",
       "      <td>Aladdin</td>\n",
       "      <td>4.043630</td>\n",
       "    </tr>\n",
       "    <tr>\n",
       "      <th>2</th>\n",
       "      <td>457</td>\n",
       "      <td>The Fugitive</td>\n",
       "      <td>4.041961</td>\n",
       "    </tr>\n",
       "    <tr>\n",
       "      <th>3</th>\n",
       "      <td>592</td>\n",
       "      <td>Batman</td>\n",
       "      <td>3.934814</td>\n",
       "    </tr>\n",
       "    <tr>\n",
       "      <th>4</th>\n",
       "      <td>590</td>\n",
       "      <td>Dances with Wolves</td>\n",
       "      <td>3.895024</td>\n",
       "    </tr>\n",
       "    <tr>\n",
       "      <th>5</th>\n",
       "      <td>165</td>\n",
       "      <td>Die Hard: With a Vengeance</td>\n",
       "      <td>3.624214</td>\n",
       "    </tr>\n",
       "    <tr>\n",
       "      <th>6</th>\n",
       "      <td>349</td>\n",
       "      <td>Clear and Present Danger</td>\n",
       "      <td>3.526088</td>\n",
       "    </tr>\n",
       "    <tr>\n",
       "      <th>7</th>\n",
       "      <td>595</td>\n",
       "      <td>Beauty and the Beast</td>\n",
       "      <td>3.413109</td>\n",
       "    </tr>\n",
       "    <tr>\n",
       "      <th>8</th>\n",
       "      <td>316</td>\n",
       "      <td>Stargate</td>\n",
       "      <td>3.270584</td>\n",
       "    </tr>\n",
       "    <tr>\n",
       "      <th>9</th>\n",
       "      <td>153</td>\n",
       "      <td>Batman Forever</td>\n",
       "      <td>3.183500</td>\n",
       "    </tr>\n",
       "  </tbody>\n",
       "</table>\n",
       "</div>"
      ],
      "text/plain": [
       "   movieId              original_title    rating\n",
       "0      380                   True Lies  4.366908\n",
       "1      588                     Aladdin  4.043630\n",
       "2      457                The Fugitive  4.041961\n",
       "3      592                      Batman  3.934814\n",
       "4      590          Dances with Wolves  3.895024\n",
       "5      165  Die Hard: With a Vengeance  3.624214\n",
       "6      349    Clear and Present Danger  3.526088\n",
       "7      595        Beauty and the Beast  3.413109\n",
       "8      316                    Stargate  3.270584\n",
       "9      153              Batman Forever  3.183500"
      ]
     },
     "execution_count": 18,
     "metadata": {},
     "output_type": "execute_result"
    }
   ],
   "source": [
    "# Get and print recommended movies for user i\n",
    "i = filteredDataMatPD.index[0]\n",
    "def recommend(i, filteredDataMatPD, predictedRatingsPD):\n",
    "    x = filteredDataMatPD.T[i]\n",
    "    y = predictedRatingsPD.T[i]\n",
    "    actual = x[x.notnull()]\n",
    "    predictedNotRated = y[~x.notnull()]\n",
    "    return predictedNotRated.sort_values(ascending=False)\n",
    "recommended = recommend(i, filteredDataMatPD, predictedRatingsPD)\n",
    "joinListToMovies(recommended, moviesPD, moviesIdsLocPD)[0:10]"
   ]
  },
  {
   "cell_type": "code",
   "execution_count": 19,
   "metadata": {},
   "outputs": [
    {
     "data": {
      "text/html": [
       "<div>\n",
       "<style scoped>\n",
       "    .dataframe tbody tr th:only-of-type {\n",
       "        vertical-align: middle;\n",
       "    }\n",
       "\n",
       "    .dataframe tbody tr th {\n",
       "        vertical-align: top;\n",
       "    }\n",
       "\n",
       "    .dataframe thead th {\n",
       "        text-align: right;\n",
       "    }\n",
       "</style>\n",
       "<table border=\"1\" class=\"dataframe\">\n",
       "  <thead>\n",
       "    <tr style=\"text-align: right;\">\n",
       "      <th></th>\n",
       "      <th>movieId</th>\n",
       "      <th>original_title</th>\n",
       "      <th>rating</th>\n",
       "    </tr>\n",
       "  </thead>\n",
       "  <tbody>\n",
       "    <tr>\n",
       "      <th>0</th>\n",
       "      <td>2324</td>\n",
       "      <td>La vita è bella</td>\n",
       "      <td>5.0</td>\n",
       "    </tr>\n",
       "    <tr>\n",
       "      <th>1</th>\n",
       "      <td>4973</td>\n",
       "      <td>Le fabuleux destin d'Amélie Poulain</td>\n",
       "      <td>5.0</td>\n",
       "    </tr>\n",
       "    <tr>\n",
       "      <th>2</th>\n",
       "      <td>4993</td>\n",
       "      <td>The Lord of the Rings: The Fellowship of the Ring</td>\n",
       "      <td>5.0</td>\n",
       "    </tr>\n",
       "    <tr>\n",
       "      <th>3</th>\n",
       "      <td>5299</td>\n",
       "      <td>My Big Fat Greek Wedding</td>\n",
       "      <td>5.0</td>\n",
       "    </tr>\n",
       "    <tr>\n",
       "      <th>4</th>\n",
       "      <td>2396</td>\n",
       "      <td>Shakespeare in Love</td>\n",
       "      <td>5.0</td>\n",
       "    </tr>\n",
       "    <tr>\n",
       "      <th>5</th>\n",
       "      <td>4308</td>\n",
       "      <td>Moulin Rouge!</td>\n",
       "      <td>5.0</td>\n",
       "    </tr>\n",
       "    <tr>\n",
       "      <th>6</th>\n",
       "      <td>4306</td>\n",
       "      <td>Shrek</td>\n",
       "      <td>5.0</td>\n",
       "    </tr>\n",
       "    <tr>\n",
       "      <th>7</th>\n",
       "      <td>5952</td>\n",
       "      <td>The Lord of the Rings: The Two Towers</td>\n",
       "      <td>5.0</td>\n",
       "    </tr>\n",
       "    <tr>\n",
       "      <th>8</th>\n",
       "      <td>5989</td>\n",
       "      <td>Catch Me If You Can</td>\n",
       "      <td>5.0</td>\n",
       "    </tr>\n",
       "    <tr>\n",
       "      <th>9</th>\n",
       "      <td>1059</td>\n",
       "      <td>Romeo + Juliet</td>\n",
       "      <td>5.0</td>\n",
       "    </tr>\n",
       "    <tr>\n",
       "      <th>10</th>\n",
       "      <td>342</td>\n",
       "      <td>Muriel's Wedding</td>\n",
       "      <td>5.0</td>\n",
       "    </tr>\n",
       "    <tr>\n",
       "      <th>11</th>\n",
       "      <td>1682</td>\n",
       "      <td>The Truman Show</td>\n",
       "      <td>4.5</td>\n",
       "    </tr>\n",
       "    <tr>\n",
       "      <th>12</th>\n",
       "      <td>1653</td>\n",
       "      <td>Gattaca</td>\n",
       "      <td>4.5</td>\n",
       "    </tr>\n",
       "    <tr>\n",
       "      <th>13</th>\n",
       "      <td>1246</td>\n",
       "      <td>Dead Poets Society</td>\n",
       "      <td>4.5</td>\n",
       "    </tr>\n",
       "    <tr>\n",
       "      <th>14</th>\n",
       "      <td>2395</td>\n",
       "      <td>Rushmore</td>\n",
       "      <td>4.5</td>\n",
       "    </tr>\n",
       "    <tr>\n",
       "      <th>15</th>\n",
       "      <td>2858</td>\n",
       "      <td>American Beauty</td>\n",
       "      <td>4.5</td>\n",
       "    </tr>\n",
       "    <tr>\n",
       "      <th>16</th>\n",
       "      <td>3114</td>\n",
       "      <td>Toy Story 2</td>\n",
       "      <td>4.5</td>\n",
       "    </tr>\n",
       "    <tr>\n",
       "      <th>17</th>\n",
       "      <td>3967</td>\n",
       "      <td>Billy Elliot</td>\n",
       "      <td>4.5</td>\n",
       "    </tr>\n",
       "    <tr>\n",
       "      <th>18</th>\n",
       "      <td>1197</td>\n",
       "      <td>The Princess Bride</td>\n",
       "      <td>4.5</td>\n",
       "    </tr>\n",
       "    <tr>\n",
       "      <th>19</th>\n",
       "      <td>4014</td>\n",
       "      <td>Chocolat</td>\n",
       "      <td>4.5</td>\n",
       "    </tr>\n",
       "  </tbody>\n",
       "</table>\n",
       "</div>"
      ],
      "text/plain": [
       "    movieId                                     original_title  rating\n",
       "0      2324                                    La vita è bella     5.0\n",
       "1      4973                Le fabuleux destin d'Amélie Poulain     5.0\n",
       "2      4993  The Lord of the Rings: The Fellowship of the Ring     5.0\n",
       "3      5299                           My Big Fat Greek Wedding     5.0\n",
       "4      2396                                Shakespeare in Love     5.0\n",
       "5      4308                                      Moulin Rouge!     5.0\n",
       "6      4306                                              Shrek     5.0\n",
       "7      5952              The Lord of the Rings: The Two Towers     5.0\n",
       "8      5989                                Catch Me If You Can     5.0\n",
       "9      1059                                     Romeo + Juliet     5.0\n",
       "10      342                                   Muriel's Wedding     5.0\n",
       "11     1682                                    The Truman Show     4.5\n",
       "12     1653                                            Gattaca     4.5\n",
       "13     1246                                 Dead Poets Society     4.5\n",
       "14     2395                                           Rushmore     4.5\n",
       "15     2858                                    American Beauty     4.5\n",
       "16     3114                                        Toy Story 2     4.5\n",
       "17     3967                                       Billy Elliot     4.5\n",
       "18     1197                                 The Princess Bride     4.5\n",
       "19     4014                                           Chocolat     4.5"
      ]
     },
     "execution_count": 19,
     "metadata": {},
     "output_type": "execute_result"
    }
   ],
   "source": [
    "# Print top rated movies for this user. To visually inspect taste is similar (or not)\n",
    "def getTopRatedForUser(i, filteredDataMatPD):\n",
    "    \"\"\" Retrieve top rated movies for user\n",
    "    \"\"\"\n",
    "    return filteredDataMatPD.T[i][filteredDataMatPD.T[i].notnull()].sort_values(ascending=False)\n",
    "topRated = getTopRatedForUser(i, filteredDataMatPD)\n",
    "joinListToMovies(topRated, moviesPD, moviesIdsLocPD)[0:20]"
   ]
  }
 ],
 "metadata": {
  "kernelspec": {
   "display_name": "Python 3",
   "language": "python",
   "name": "python3"
  },
  "language_info": {
   "codemirror_mode": {
    "name": "ipython",
    "version": 3
   },
   "file_extension": ".py",
   "mimetype": "text/x-python",
   "name": "python",
   "nbconvert_exporter": "python",
   "pygments_lexer": "ipython3",
   "version": "3.6.1"
  }
 },
 "nbformat": 4,
 "nbformat_minor": 2
}
